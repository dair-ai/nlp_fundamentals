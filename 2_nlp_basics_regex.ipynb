{
 "cells": [
  {
   "cell_type": "markdown",
   "metadata": {},
   "source": [
    "## Fundamentals of NLP (Chapter 2): Regular Expressions "
   ]
  },
  {
   "cell_type": "markdown",
   "metadata": {},
   "source": [
    "in second chapter we will dicuss a very imporant topic not only in nlp or Machine learning but in computer science which is regular expressions, regular expression or regex which is an abbreviation for it is a schema used for pattern matching or we can can considered as a simple pattern recongition algorithm which is used to recognize a certain class or feature, regular expression originated from the field of theory of computation where it similar to the idea of context free grammar which is algorithm which generates a pattern where regular expression match this pattern so we will descrive the idea of regular expressions in python using regex library with different examples, We also provide some exercises for you to keep practicing and exploring some ideas."
   ]
  },
  {
   "cell_type": "markdown",
   "metadata": {},
   "source": [
    "## Regular expressions\n",
    "we will be using regex library in python int the following examples, regex is part of python standard library so there's no need to download using external package manager. \n",
    "\n"
   ]
  },
  {
   "cell_type": "code",
   "execution_count": 19,
   "metadata": {},
   "outputs": [
    {
     "name": "stdout",
     "output_type": "stream",
     "text": [
      "Email is valid\n"
     ]
    }
   ],
   "source": [
    "# this example demonstrate how regex can be of a use\n",
    "# here we are trying to know wether a person enters a \n",
    "#valid e-amil or not when signing in or registering, to have a valid e-mail\n",
    "#it must contain the character @ and .com or .org or whatever \n",
    "#so our regex string can know whether the string contains \n",
    "#this or not\n",
    "\n",
    "import re \n",
    "text = 'mohaned.tarek@gmail.com'\n",
    "output = re.match(\"[a-zA-Z0-9_.+-]+@[a-zA-Z0-9-]+\\.[a-zA-Z0-9-.]+\",text)\n",
    "if output is None:\n",
    "    print('Enter Valid Email')\n",
    "else:\n",
    "    print('Email is valid')"
   ]
  },
  {
   "cell_type": "code",
   "execution_count": null,
   "metadata": {},
   "outputs": [],
   "source": []
  }
 ],
 "metadata": {
  "kernelspec": {
   "display_name": "Python 3",
   "language": "python",
   "name": "python3"
  },
  "language_info": {
   "codemirror_mode": {
    "name": "ipython",
    "version": 3
   },
   "file_extension": ".py",
   "mimetype": "text/x-python",
   "name": "python",
   "nbconvert_exporter": "python",
   "pygments_lexer": "ipython3",
   "version": "3.7.4"
  }
 },
 "nbformat": 4,
 "nbformat_minor": 4
}
